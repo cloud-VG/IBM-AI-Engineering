{
  "nbformat": 4,
  "nbformat_minor": 0,
  "metadata": {
    "colab": {
      "name": "concrete compressive strength (regression).ipynb",
      "provenance": [],
      "collapsed_sections": []
    },
    "kernelspec": {
      "name": "python3",
      "display_name": "Python 3"
    },
    "accelerator": "GPU"
  },
  "cells": [
    {
      "cell_type": "markdown",
      "metadata": {
        "id": "Jk0hAqlvfXQC",
        "colab_type": "text"
      },
      "source": [
        "# Predicting Concrete Compression Strength using Regression"
      ]
    },
    {
      "cell_type": "markdown",
      "metadata": {
        "id": "xtcThAWLgQtX",
        "colab_type": "text"
      },
      "source": [
        "### *A. Build a baseline model*"
      ]
    },
    {
      "cell_type": "markdown",
      "metadata": {
        "id": "8LgHr8eZgky4",
        "colab_type": "text"
      },
      "source": [
        "**imports**"
      ]
    },
    {
      "cell_type": "code",
      "metadata": {
        "id": "drXbAN3OVJAJ",
        "colab_type": "code",
        "outputId": "2dd9ee92-79f4-443c-dcf2-e0f38ac508dc",
        "colab": {
          "base_uri": "https://localhost:8080/",
          "height": 34
        }
      },
      "source": [
        "from sklearn.model_selection import train_test_split\n",
        "import numpy as np\n",
        "import pandas as pd\n",
        "import keras\n",
        "from keras.layers import Dense\n",
        "from google.colab import output"
      ],
      "execution_count": 0,
      "outputs": [
        {
          "output_type": "stream",
          "text": [
            "Using TensorFlow backend.\n"
          ],
          "name": "stderr"
        }
      ]
    },
    {
      "cell_type": "markdown",
      "metadata": {
        "id": "8UttVD7ShAgZ",
        "colab_type": "text"
      },
      "source": [
        "**Getting Data Set**"
      ]
    },
    {
      "cell_type": "code",
      "metadata": {
        "id": "zfAWWTa1VOBX",
        "colab_type": "code",
        "outputId": "3c35c224-e36e-421e-c667-b2466e1876f1",
        "colab": {
          "base_uri": "https://localhost:8080/",
          "height": 223
        }
      },
      "source": [
        "X = pd.read_csv('https://cocl.us/concrete_data')\n",
        "X.head()"
      ],
      "execution_count": 0,
      "outputs": [
        {
          "output_type": "execute_result",
          "data": {
            "text/html": [
              "<div>\n",
              "<style scoped>\n",
              "    .dataframe tbody tr th:only-of-type {\n",
              "        vertical-align: middle;\n",
              "    }\n",
              "\n",
              "    .dataframe tbody tr th {\n",
              "        vertical-align: top;\n",
              "    }\n",
              "\n",
              "    .dataframe thead th {\n",
              "        text-align: right;\n",
              "    }\n",
              "</style>\n",
              "<table border=\"1\" class=\"dataframe\">\n",
              "  <thead>\n",
              "    <tr style=\"text-align: right;\">\n",
              "      <th></th>\n",
              "      <th>Cement</th>\n",
              "      <th>Blast Furnace Slag</th>\n",
              "      <th>Fly Ash</th>\n",
              "      <th>Water</th>\n",
              "      <th>Superplasticizer</th>\n",
              "      <th>Coarse Aggregate</th>\n",
              "      <th>Fine Aggregate</th>\n",
              "      <th>Age</th>\n",
              "      <th>Strength</th>\n",
              "    </tr>\n",
              "  </thead>\n",
              "  <tbody>\n",
              "    <tr>\n",
              "      <th>0</th>\n",
              "      <td>540.0</td>\n",
              "      <td>0.0</td>\n",
              "      <td>0.0</td>\n",
              "      <td>162.0</td>\n",
              "      <td>2.5</td>\n",
              "      <td>1040.0</td>\n",
              "      <td>676.0</td>\n",
              "      <td>28</td>\n",
              "      <td>79.99</td>\n",
              "    </tr>\n",
              "    <tr>\n",
              "      <th>1</th>\n",
              "      <td>540.0</td>\n",
              "      <td>0.0</td>\n",
              "      <td>0.0</td>\n",
              "      <td>162.0</td>\n",
              "      <td>2.5</td>\n",
              "      <td>1055.0</td>\n",
              "      <td>676.0</td>\n",
              "      <td>28</td>\n",
              "      <td>61.89</td>\n",
              "    </tr>\n",
              "    <tr>\n",
              "      <th>2</th>\n",
              "      <td>332.5</td>\n",
              "      <td>142.5</td>\n",
              "      <td>0.0</td>\n",
              "      <td>228.0</td>\n",
              "      <td>0.0</td>\n",
              "      <td>932.0</td>\n",
              "      <td>594.0</td>\n",
              "      <td>270</td>\n",
              "      <td>40.27</td>\n",
              "    </tr>\n",
              "    <tr>\n",
              "      <th>3</th>\n",
              "      <td>332.5</td>\n",
              "      <td>142.5</td>\n",
              "      <td>0.0</td>\n",
              "      <td>228.0</td>\n",
              "      <td>0.0</td>\n",
              "      <td>932.0</td>\n",
              "      <td>594.0</td>\n",
              "      <td>365</td>\n",
              "      <td>41.05</td>\n",
              "    </tr>\n",
              "    <tr>\n",
              "      <th>4</th>\n",
              "      <td>198.6</td>\n",
              "      <td>132.4</td>\n",
              "      <td>0.0</td>\n",
              "      <td>192.0</td>\n",
              "      <td>0.0</td>\n",
              "      <td>978.4</td>\n",
              "      <td>825.5</td>\n",
              "      <td>360</td>\n",
              "      <td>44.30</td>\n",
              "    </tr>\n",
              "  </tbody>\n",
              "</table>\n",
              "</div>"
            ],
            "text/plain": [
              "   Cement  Blast Furnace Slag  Fly Ash  ...  Fine Aggregate  Age  Strength\n",
              "0   540.0                 0.0      0.0  ...           676.0   28     79.99\n",
              "1   540.0                 0.0      0.0  ...           676.0   28     61.89\n",
              "2   332.5               142.5      0.0  ...           594.0  270     40.27\n",
              "3   332.5               142.5      0.0  ...           594.0  365     41.05\n",
              "4   198.6               132.4      0.0  ...           825.5  360     44.30\n",
              "\n",
              "[5 rows x 9 columns]"
            ]
          },
          "metadata": {
            "tags": []
          },
          "execution_count": 2
        }
      ]
    },
    {
      "cell_type": "markdown",
      "metadata": {
        "id": "-Lf6j7KphHq2",
        "colab_type": "text"
      },
      "source": [
        "**Separating Features and Targets**"
      ]
    },
    {
      "cell_type": "code",
      "metadata": {
        "id": "Fjl9enDiVYQF",
        "colab_type": "code",
        "outputId": "2c018f30-ea28-4176-ae8a-ee744677f352",
        "colab": {
          "base_uri": "https://localhost:8080/",
          "height": 746
        }
      },
      "source": [
        "Y = X.pop('Strength')\n",
        "print('Features:\\n', X.head())\n",
        "print('Targets:\\n', Y.head())"
      ],
      "execution_count": 0,
      "outputs": [
        {
          "output_type": "stream",
          "text": [
            "Features:\n",
            "    Cement  Blast Furnace Slag  Fly Ash  ...  Coarse Aggregate  Fine Aggregate  Age\n",
            "0   540.0                 0.0      0.0  ...            1040.0           676.0   28\n",
            "1   540.0                 0.0      0.0  ...            1055.0           676.0   28\n",
            "2   332.5               142.5      0.0  ...             932.0           594.0  270\n",
            "3   332.5               142.5      0.0  ...             932.0           594.0  365\n",
            "4   198.6               132.4      0.0  ...             978.4           825.5  360\n",
            "\n",
            "[5 rows x 8 columns]\n",
            "Targets:\n",
            " 0    79.99\n",
            "1    61.89\n",
            "2    40.27\n",
            "3    41.05\n",
            "4    44.30\n",
            "Name: Strength, dtype: float64\n"
          ],
          "name": "stdout"
        }
      ]
    },
    {
      "cell_type": "code",
      "metadata": {
        "id": "UzdwrhwKV4Su",
        "colab_type": "code",
        "colab": {}
      },
      "source": [
        "# saving input shape for later use in defining first layer of ANN\n",
        "input_shape = X.shape[1]"
      ],
      "execution_count": 0,
      "outputs": []
    },
    {
      "cell_type": "markdown",
      "metadata": {
        "id": "ihNlrpMlhgYp",
        "colab_type": "text"
      },
      "source": [
        "***A generic functions for all parts of exercise***"
      ]
    },
    {
      "cell_type": "code",
      "metadata": {
        "id": "3OfaC1KEWaiG",
        "colab_type": "code",
        "colab": {}
      },
      "source": [
        "def create_model(hidden_layers):\n",
        "    model = keras.models.Sequential()\n",
        "    model.add(Dense(10, activation='relu', input_shape=(input_shape,)))\n",
        "    for n in range(hidden_layers):\n",
        "        model.add(Dense(10, activation='relu'))\n",
        "    model.add(Dense(1))\n",
        "\n",
        "    model.compile(optimizer='adam', loss='mean_squared_error')\n",
        "    return model"
      ],
      "execution_count": 0,
      "outputs": []
    },
    {
      "cell_type": "markdown",
      "metadata": {
        "id": "spffmJ9PhzdD",
        "colab_type": "text"
      },
      "source": [
        "**Getting results for part A**"
      ]
    },
    {
      "cell_type": "code",
      "metadata": {
        "id": "ZwxQ_0CqXtDB",
        "colab_type": "code",
        "outputId": "cbcf6909-a05c-40c8-ea90-410771f950f0",
        "colab": {
          "base_uri": "https://localhost:8080/",
          "height": 51
        }
      },
      "source": [
        "losses = []\n",
        "\n",
        "for _ in range(50):\n",
        "    x_train, x_test, y_train, y_test = train_test_split(X, Y, test_size=0.30)\n",
        "    model = create_model(1) # 1 hidden layer\n",
        "    model.fit(x_train, y_train, epochs=50)\n",
        "    losses.append(model.evaluate(x_test, y_test))\n",
        "\n",
        "output.clear()\n",
        "mse = np.array(losses)\n",
        "print(\"Mean of MSE:\", mse.mean())\n",
        "print(\"Standard Deviation of MSE:\", mse.std())"
      ],
      "execution_count": 0,
      "outputs": [
        {
          "output_type": "stream",
          "text": [
            "Mean of MSE: 149.6971592448213\n",
            "Standard Deviation of MSE: 86.6208041117065\n"
          ],
          "name": "stdout"
        }
      ]
    },
    {
      "cell_type": "markdown",
      "metadata": {
        "id": "HZmNr3tkh8v4",
        "colab_type": "text"
      },
      "source": [
        "### *B. Normalize the data*\n",
        "Repeat Part A but use a normalized version of the data. Recall that one way to normalize the data is by subtracting the mean from the individual predictors and dividing by the standard deviation."
      ]
    },
    {
      "cell_type": "code",
      "metadata": {
        "id": "KjrHzvDwaFnD",
        "colab_type": "code",
        "outputId": "63cfabd1-6a47-44fc-950e-a57933631695",
        "colab": {
          "base_uri": "https://localhost:8080/",
          "height": 223
        }
      },
      "source": [
        "\n",
        "X_norm = (X - X.mean()) / X.std()\n",
        "X_norm.head()"
      ],
      "execution_count": 0,
      "outputs": [
        {
          "output_type": "execute_result",
          "data": {
            "text/html": [
              "<div>\n",
              "<style scoped>\n",
              "    .dataframe tbody tr th:only-of-type {\n",
              "        vertical-align: middle;\n",
              "    }\n",
              "\n",
              "    .dataframe tbody tr th {\n",
              "        vertical-align: top;\n",
              "    }\n",
              "\n",
              "    .dataframe thead th {\n",
              "        text-align: right;\n",
              "    }\n",
              "</style>\n",
              "<table border=\"1\" class=\"dataframe\">\n",
              "  <thead>\n",
              "    <tr style=\"text-align: right;\">\n",
              "      <th></th>\n",
              "      <th>Cement</th>\n",
              "      <th>Blast Furnace Slag</th>\n",
              "      <th>Fly Ash</th>\n",
              "      <th>Water</th>\n",
              "      <th>Superplasticizer</th>\n",
              "      <th>Coarse Aggregate</th>\n",
              "      <th>Fine Aggregate</th>\n",
              "      <th>Age</th>\n",
              "    </tr>\n",
              "  </thead>\n",
              "  <tbody>\n",
              "    <tr>\n",
              "      <th>0</th>\n",
              "      <td>2.476712</td>\n",
              "      <td>-0.856472</td>\n",
              "      <td>-0.846733</td>\n",
              "      <td>-0.916319</td>\n",
              "      <td>-0.620147</td>\n",
              "      <td>0.862735</td>\n",
              "      <td>-1.217079</td>\n",
              "      <td>-0.279597</td>\n",
              "    </tr>\n",
              "    <tr>\n",
              "      <th>1</th>\n",
              "      <td>2.476712</td>\n",
              "      <td>-0.856472</td>\n",
              "      <td>-0.846733</td>\n",
              "      <td>-0.916319</td>\n",
              "      <td>-0.620147</td>\n",
              "      <td>1.055651</td>\n",
              "      <td>-1.217079</td>\n",
              "      <td>-0.279597</td>\n",
              "    </tr>\n",
              "    <tr>\n",
              "      <th>2</th>\n",
              "      <td>0.491187</td>\n",
              "      <td>0.795140</td>\n",
              "      <td>-0.846733</td>\n",
              "      <td>2.174405</td>\n",
              "      <td>-1.038638</td>\n",
              "      <td>-0.526262</td>\n",
              "      <td>-2.239829</td>\n",
              "      <td>3.551340</td>\n",
              "    </tr>\n",
              "    <tr>\n",
              "      <th>3</th>\n",
              "      <td>0.491187</td>\n",
              "      <td>0.795140</td>\n",
              "      <td>-0.846733</td>\n",
              "      <td>2.174405</td>\n",
              "      <td>-1.038638</td>\n",
              "      <td>-0.526262</td>\n",
              "      <td>-2.239829</td>\n",
              "      <td>5.055221</td>\n",
              "    </tr>\n",
              "    <tr>\n",
              "      <th>4</th>\n",
              "      <td>-0.790075</td>\n",
              "      <td>0.678079</td>\n",
              "      <td>-0.846733</td>\n",
              "      <td>0.488555</td>\n",
              "      <td>-1.038638</td>\n",
              "      <td>0.070492</td>\n",
              "      <td>0.647569</td>\n",
              "      <td>4.976069</td>\n",
              "    </tr>\n",
              "  </tbody>\n",
              "</table>\n",
              "</div>"
            ],
            "text/plain": [
              "     Cement  Blast Furnace Slag  ...  Fine Aggregate       Age\n",
              "0  2.476712           -0.856472  ...       -1.217079 -0.279597\n",
              "1  2.476712           -0.856472  ...       -1.217079 -0.279597\n",
              "2  0.491187            0.795140  ...       -2.239829  3.551340\n",
              "3  0.491187            0.795140  ...       -2.239829  5.055221\n",
              "4 -0.790075            0.678079  ...        0.647569  4.976069\n",
              "\n",
              "[5 rows x 8 columns]"
            ]
          },
          "metadata": {
            "tags": []
          },
          "execution_count": 7
        }
      ]
    },
    {
      "cell_type": "markdown",
      "metadata": {
        "id": "pvJu11R-iQbS",
        "colab_type": "text"
      },
      "source": [
        "**results for part B**"
      ]
    },
    {
      "cell_type": "code",
      "metadata": {
        "id": "wlBqn5dTd5GL",
        "colab_type": "code",
        "outputId": "cbe6fc67-a925-4881-c70a-428c4048ec1b",
        "colab": {
          "base_uri": "https://localhost:8080/",
          "height": 1000
        }
      },
      "source": [
        "losses = []\n",
        "\n",
        "for _ in range(50):\n",
        "    x_train, x_test, y_train, y_test = train_test_split(X_norm, Y, test_size=0.30)\n",
        "    model = create_model(1)\n",
        "    model.fit(x_train, y_train, epochs=50)\n",
        "    losses.append(model.evaluate(x_test, y_test))\n",
        "\n",
        "output.clear()\n",
        "mse = np.array(losses)\n",
        "print(\"Mean of MSE:\", mse.mean())\n",
        "print(\"Standard Deviation of MSE:\", mse.std())"
      ],
      "execution_count": 0,
      "outputs": [
        {
          "output_type": "stream",
          "text": [
            "Mean of MSE: 149.92144518312125\n",
            "Standard Deviation of MSE: 11.844941022757316\n"
          ],
          "name": "stdout"
        }
      ]
    },
    {
      "cell_type": "markdown",
      "metadata": {
        "id": "lpL_9BUDiaPd",
        "colab_type": "text"
      },
      "source": [
        "### *C. Increase the number of epochs*\n",
        "Repeat Part B but use 100 epochs this time for training."
      ]
    },
    {
      "cell_type": "code",
      "metadata": {
        "id": "GP_9jOLseM4A",
        "colab_type": "code",
        "outputId": "cb8a1ce9-48a9-4c1d-bfea-5fbbdcb9a3d2",
        "colab": {
          "base_uri": "https://localhost:8080/",
          "height": 1000
        }
      },
      "source": [
        "losses = []\n",
        "\n",
        "for _ in range(50):\n",
        "    x_train, x_test, y_train, y_test = train_test_split(X_norm, Y, test_size=0.30)\n",
        "    model = create_model(1)\n",
        "    model.fit(x_train, y_train, epochs=100) # epochs to 100\n",
        "    losses.append(model.evaluate(x_test, y_test))\n",
        "\n",
        "output.clear()\n",
        "mse = np.array(losses)\n",
        "print(\"Mean of MSE:\", mse.mean())\n",
        "print(\"Standard Deviation of MSE:\", mse.std())"
      ],
      "execution_count": 0,
      "outputs": [
        {
          "output_type": "stream",
          "text": [
            "Mean of MSE: 119.9896006555156\n",
            "Standard Deviation of MSE: 10.78721577362423\n"
          ],
          "name": "stdout"
        }
      ]
    },
    {
      "cell_type": "markdown",
      "metadata": {
        "id": "2EJ7_r9CiqhE",
        "colab_type": "text"
      },
      "source": [
        "### *D. Increase the number of hidden layers*\n",
        "Repeat part B but use a neural network with the following instead:\n",
        "\n",
        "- Three hidden layers, each of 10 nodes and ReLU activation function"
      ]
    },
    {
      "cell_type": "code",
      "metadata": {
        "id": "G9CZFmepeunB",
        "colab_type": "code",
        "outputId": "edfdc5be-1904-41b4-9c1b-762e83ffc90e",
        "colab": {
          "base_uri": "https://localhost:8080/"
        }
      },
      "source": [
        "losses = []\n",
        "\n",
        "for _ in range(50):\n",
        "    x_train, x_test, y_train, y_test = train_test_split(X_norm, Y, test_size=0.30)\n",
        "    model = create_model(3)   # 3 hidden layers \n",
        "    model.fit(x_train, y_train, epochs=50)\n",
        "    losses.append(model.evaluate(x_test, y_test))\n",
        "\n",
        "output.clear()\n",
        "mse = np.array(losses)\n",
        "print(\"Mean of MSE:\", mse.mean())\n",
        "print(\"Standard Deviation of MSE:\", mse.std())"
      ],
      "execution_count": 0,
      "outputs": [
        {
          "output_type": "stream",
          "text": [
            "Mean of MSE: 112.32674698740148\n",
            "Standard Deviation of MSE: 22.74569044312257\n"
          ],
          "name": "stdout"
        }
      ]
    }
  ]
}